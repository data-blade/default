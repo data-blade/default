{
 "cells": [
  {
   "cell_type": "code",
   "execution_count": 11,
   "metadata": {
    "collapsed": false,
    "deletable": true,
    "editable": true
   },
   "outputs": [
    {
     "name": "stdout",
     "output_type": "stream",
     "text": [
      "True  0\n",
      "True I 1\n",
      "True II 2\n",
      "True IV 4\n",
      "False IIV 5\n",
      "True VIII 8\n",
      "True XXIX 29\n",
      "True XL 40\n",
      "True LXXIII 73\n",
      "True XCIII 93\n",
      "True MMMMMCMXCIX 5999\n"
     ]
    }
   ],
   "source": [
    "# without checking for correct use of roman numerals\n",
    "def romanToArab(roman: str) -> int:\n",
    "    translation = {\n",
    "        'M': 1000,\n",
    "        'D': 500,\n",
    "        'C': 100,\n",
    "        'L': 50,\n",
    "        'X': 10,\n",
    "        'V': 5,\n",
    "        'I': 1\n",
    "    }\n",
    "    \n",
    "    arab = 0\n",
    "    previous = 1000\n",
    "    \n",
    "    for letter in roman:\n",
    "        for symbol, value in translation.items():\n",
    "            if letter.upper() == symbol:\n",
    "                if value > previous:\n",
    "                    arab = arab - 2 * previous + value\n",
    "                else:\n",
    "                    arab += value\n",
    "                previous = value\n",
    "                break\n",
    "        else:\n",
    "            raise Exception('not a roman number')\n",
    "    \n",
    "    return arab\n",
    "\n",
    "def test(expected, roman):\n",
    "    actual = romanToArab(roman)\n",
    "    print(expected == actual, roman, actual)\n",
    "    \n",
    "test(0, '')\n",
    "test(1, 'I')\n",
    "test(2, 'II')\n",
    "test(4, 'IV')\n",
    "test(3, 'IIV') # trap\n",
    "test(8, 'VIII')\n",
    "test(29, 'XXIX')\n",
    "test(40, 'XL')\n",
    "test(73, 'LXXIII')\n",
    "test(93, 'XCIII')\n",
    "test(5999, 'MMMMMCMXCIX')"
   ]
  }
 ],
 "metadata": {
  "kernelspec": {
   "display_name": "Python 3",
   "language": "python",
   "name": "python3"
  },
  "language_info": {
   "codemirror_mode": {
    "name": "ipython",
    "version": 3
   },
   "file_extension": ".py",
   "mimetype": "text/x-python",
   "name": "python",
   "nbconvert_exporter": "python",
   "pygments_lexer": "ipython3",
   "version": "3.5.3"
  }
 },
 "nbformat": 4,
 "nbformat_minor": 2
}
