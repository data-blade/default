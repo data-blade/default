{
 "cells": [
  {
   "cell_type": "code",
   "execution_count": 10,
   "metadata": {
    "collapsed": false,
    "deletable": true,
    "editable": true
   },
   "outputs": [
    {
     "name": "stdout",
     "output_type": "stream",
     "text": [
      "> 1\n",
      "[]\n"
     ]
    }
   ],
   "source": [
    "#03\n",
    "\n",
    "a = [1, 1, 2, 3, 5, 8, 13, 21, 34, 55, 89]\n",
    "l = []\n",
    "while True:\n",
    "    try:\n",
    "        limit = int(input('> '))\n",
    "        break\n",
    "    except ValueError:\n",
    "        print('not a number')\n",
    "for i in a:\n",
    "    if i < limit:\n",
    "        l.append(i)\n",
    "print(l)"
   ]
  },
  {
   "cell_type": "code",
   "execution_count": 12,
   "metadata": {
    "collapsed": false,
    "deletable": true,
    "editable": true
   },
   "outputs": [
    {
     "name": "stdout",
     "output_type": "stream",
     "text": [
      "> 66\n",
      "[2, 3, 6, 11, 22, 33]\n"
     ]
    }
   ],
   "source": [
    "#04\n",
    "\n",
    "l = []\n",
    "while True:\n",
    "    try:\n",
    "        num = int(input('> '))\n",
    "        break\n",
    "    except ValueError:\n",
    "        print('not a number')\n",
    "for i in range(2,num):\n",
    "    if num % i == 0:\n",
    "        l.append(i)\n",
    "print(l)"
   ]
  },
  {
   "cell_type": "code",
   "execution_count": 71,
   "metadata": {
    "collapsed": false,
    "deletable": true,
    "editable": true
   },
   "outputs": [
    {
     "name": "stdout",
     "output_type": "stream",
     "text": [
      "[53, 63, 5, 29, 54, 57, 32, 55]\n",
      "[28, 64, 25, 5, 5, 33, 33, 32, 68, 27, 30, 54, 34, 19, 42]\n",
      "[5, 54, 32]\n"
     ]
    }
   ],
   "source": [
    "#05\n",
    "\n",
    "import random\n",
    "\n",
    "l = []\n",
    "#a = [1, 1, 2, 3, 5, 8, 13, 21, 34, 55, 89]\n",
    "#b = [1, 2, 3, 4, 5, 6, 7, 8, 9, 10, 11, 12, 13]\n",
    "a = []\n",
    "b = []\n",
    "x = random.randrange(1,30)\n",
    "y = random.randrange(1,30)\n",
    "\n",
    "for i in range(x):\n",
    "    a.append(random.randrange(1,80))\n",
    "for i in range(y):\n",
    "    b.append(random.randrange(1,80))\n",
    "    \n",
    "print(a)\n",
    "print(b)\n",
    "\n",
    "if len(a) > len(b): #better solution fpr this?\n",
    "    c = b\n",
    "    d = a\n",
    "else:\n",
    "    c = a\n",
    "    d = b\n",
    "for i in c:\n",
    "    if i in l:\n",
    "        continue\n",
    "    if i in d:\n",
    "        l.append(i)\n",
    "\n",
    "print(l)"
   ]
  },
  {
   "cell_type": "code",
   "execution_count": 72,
   "metadata": {
    "collapsed": false,
    "deletable": true,
    "editable": true
   },
   "outputs": [
    {
     "name": "stdout",
     "output_type": "stream",
     "text": [
      "> syh\n",
      "hys\n",
      "no\n"
     ]
    }
   ],
   "source": [
    "#06\n",
    "\n",
    "palin = input('> ')\n",
    "print(palin[::-1])\n",
    "\n",
    "if palin == palin[::-1]:\n",
    "    print('yes')\n",
    "else:\n",
    "    print('no')"
   ]
  },
  {
   "cell_type": "code",
   "execution_count": 79,
   "metadata": {
    "collapsed": false,
    "deletable": true,
    "editable": true
   },
   "outputs": [
    {
     "name": "stdout",
     "output_type": "stream",
     "text": [
      "[4, 16, 36, 64, 100]\n"
     ]
    }
   ],
   "source": [
    "#07\n",
    "\n",
    "a = [1, 4, 9, 16, 25, 36, 49, 64, 81, 100]\n",
    "print([n for n in a if n % 2 == 0])"
   ]
  },
  {
   "cell_type": "code",
   "execution_count": 1,
   "metadata": {
    "collapsed": false,
    "deletable": true,
    "editable": true
   },
   "outputs": [
    {
     "name": "stdout",
     "output_type": "stream",
     "text": [
      "let the games begin!\n",
      "choose your weapon: ········\n",
      "choose your weapon: ········\n",
      "FIRST won\n",
      "new game? (y/n) n\n"
     ]
    }
   ],
   "source": [
    "#08\n",
    "\n",
    "import getpass\n",
    "\n",
    "def choice():\n",
    "    while True:\n",
    "        wpn = getpass.getpass('choose your weapon: ')\n",
    "        if wpn.lower() in ('r', 'p', 's'):\n",
    "            return wpn.lower()\n",
    "        print('pardon?')\n",
    "\n",
    "def winCheck(a, b):\n",
    "    if a == b:\n",
    "        return 'it\\'s a draw'\n",
    "    elif (a == 's' and b == 'p') or \\\n",
    "         (a == 'p' and b == 'r') or \\\n",
    "         (a == 'r' and b == 's'):\n",
    "        return 'FIRST won'\n",
    "    else:\n",
    "        return 'SECOND won'\n",
    "\n",
    "print('let the games begin!')\n",
    "\n",
    "while True:\n",
    "    #player = 'A'\n",
    "    a = choice()\n",
    "    #player = 'B'\n",
    "    b = choice()\n",
    "    print(winCheck(a, b))\n",
    "    \n",
    "    while True:\n",
    "        new = input('new game? (y/n) ')\n",
    "        if new.lower() not in ('y','n'):\n",
    "            print('pardon?')\n",
    "        else:\n",
    "            break\n",
    "    if new.lower() == 'n':\n",
    "        break"
   ]
  },
  {
   "cell_type": "code",
   "execution_count": 21,
   "metadata": {
    "collapsed": false,
    "deletable": true,
    "editable": true
   },
   "outputs": [
    {
     "name": "stdout",
     "output_type": "stream",
     "text": [
      "guess my number between 1 and 9: 5\n",
      "too high\n",
      "guess my number between 1 and 9: 11\n",
      "huh?\n",
      "guess my number between 1 and 9: 0\n",
      "huh?\n",
      "guess my number between 1 and 9: 2\n",
      "too low\n",
      "guess my number between 1 and 9: 3\n",
      "hit!\n",
      "this took you 3 guesses\n"
     ]
    }
   ],
   "source": [
    "#09\n",
    "\n",
    "import random\n",
    "\n",
    "def eval(a, b):\n",
    "    if a == b:\n",
    "        return 'hit!'\n",
    "    elif a > b:\n",
    "        return 'too low'\n",
    "    else:\n",
    "        return 'too high'\n",
    "\n",
    "low = 1\n",
    "high = 9\n",
    "num = random.randint(low, high)\n",
    "guess = 0\n",
    "cnt = 0\n",
    "while num != guess:\n",
    "    guess = input('guess my number between 1 and 9: ')\n",
    "    if guess == 'q':\n",
    "        break\n",
    "    try:\n",
    "        guess = int(guess)\n",
    "    except ValueError:\n",
    "        print('not a number')\n",
    "        continue\n",
    "    if guess not in range(low, high + 1):\n",
    "        print('huh?')\n",
    "    else:\n",
    "        print(eval(num, guess))\n",
    "        cnt += 1\n",
    "else:\n",
    "    print('this took you', cnt, 'guesses')"
   ]
  }
 ],
 "metadata": {
  "kernelspec": {
   "display_name": "Python 3",
   "language": "python",
   "name": "python3"
  },
  "language_info": {
   "codemirror_mode": {
    "name": "ipython",
    "version": 3
   },
   "file_extension": ".py",
   "mimetype": "text/x-python",
   "name": "python",
   "nbconvert_exporter": "python",
   "pygments_lexer": "ipython3",
   "version": "3.5.3"
  }
 },
 "nbformat": 4,
 "nbformat_minor": 2
}
