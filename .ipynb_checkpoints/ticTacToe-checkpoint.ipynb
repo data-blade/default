{
 "cells": [
  {
   "cell_type": "code",
   "execution_count": 4,
   "metadata": {
    "collapsed": false,
    "deletable": true,
    "editable": true
   },
   "outputs": [
    {
     "name": "stdout",
     "output_type": "stream",
     "text": [
      "\n",
      " | |      1|2|3\n",
      "-+-+-     -+-+-\n",
      " | |      4|5|6\n",
      "-+-+-     -+-+-\n",
      " | |      7|8|9\n",
      "\n",
      "X's turn: q\n"
     ]
    },
    {
     "ename": "Exception",
     "evalue": "manual exit",
     "output_type": "error",
     "traceback": [
      "\u001b[1;31m---------------------------------------------------------------------------\u001b[0m",
      "\u001b[1;31mException\u001b[0m                                 Traceback (most recent call last)",
      "\u001b[1;32m<ipython-input-4-11ce44a0b25c>\u001b[0m in \u001b[0;36m<module>\u001b[1;34m()\u001b[0m\n\u001b[0;32m     46\u001b[0m \u001b[1;33m\u001b[0m\u001b[0m\n\u001b[0;32m     47\u001b[0m \u001b[1;32mfor\u001b[0m \u001b[0mk\u001b[0m \u001b[1;32min\u001b[0m \u001b[0mrange\u001b[0m\u001b[1;33m(\u001b[0m\u001b[1;36m9\u001b[0m\u001b[1;33m)\u001b[0m\u001b[1;33m:\u001b[0m\u001b[1;33m\u001b[0m\u001b[0m\n\u001b[1;32m---> 48\u001b[1;33m     \u001b[0msetSymbol\u001b[0m\u001b[1;33m(\u001b[0m\u001b[0msymbol\u001b[0m\u001b[1;33m)\u001b[0m\u001b[1;33m\u001b[0m\u001b[0m\n\u001b[0m\u001b[0;32m     49\u001b[0m     \u001b[0mclear_output\u001b[0m\u001b[1;33m(\u001b[0m\u001b[1;33m)\u001b[0m\u001b[1;33m\u001b[0m\u001b[0m\n\u001b[0;32m     50\u001b[0m     \u001b[0mprintBoard\u001b[0m\u001b[1;33m(\u001b[0m\u001b[0mvector\u001b[0m\u001b[1;33m)\u001b[0m\u001b[1;33m\u001b[0m\u001b[0m\n",
      "\u001b[1;32m<ipython-input-4-11ce44a0b25c>\u001b[0m in \u001b[0;36msetSymbol\u001b[1;34m(char)\u001b[0m\n\u001b[0;32m     29\u001b[0m \u001b[1;33m\u001b[0m\u001b[0m\n\u001b[0;32m     30\u001b[0m \u001b[1;32mdef\u001b[0m \u001b[0msetSymbol\u001b[0m\u001b[1;33m(\u001b[0m\u001b[0mchar\u001b[0m\u001b[1;33m)\u001b[0m\u001b[1;33m:\u001b[0m\u001b[1;33m\u001b[0m\u001b[0m\n\u001b[1;32m---> 31\u001b[1;33m     \u001b[0mx\u001b[0m \u001b[1;33m=\u001b[0m \u001b[0muserInput\u001b[0m\u001b[1;33m(\u001b[0m\u001b[1;33m)\u001b[0m\u001b[1;33m\u001b[0m\u001b[0m\n\u001b[0m\u001b[0;32m     32\u001b[0m     \u001b[0mvector\u001b[0m\u001b[1;33m[\u001b[0m\u001b[0mx\u001b[0m\u001b[1;33m]\u001b[0m \u001b[1;33m=\u001b[0m \u001b[0mchar\u001b[0m\u001b[1;33m\u001b[0m\u001b[0m\n\u001b[0;32m     33\u001b[0m     \u001b[0mlegend\u001b[0m\u001b[1;33m[\u001b[0m\u001b[0mx\u001b[0m\u001b[1;33m]\u001b[0m \u001b[1;33m=\u001b[0m \u001b[1;34m' '\u001b[0m\u001b[1;33m\u001b[0m\u001b[0m\n",
      "\u001b[1;32m<ipython-input-4-11ce44a0b25c>\u001b[0m in \u001b[0;36muserInput\u001b[1;34m()\u001b[0m\n\u001b[0;32m     21\u001b[0m         \u001b[0mfield\u001b[0m \u001b[1;33m=\u001b[0m \u001b[0minput\u001b[0m\u001b[1;33m(\u001b[0m\u001b[0msymbol\u001b[0m \u001b[1;33m+\u001b[0m \u001b[1;34m'\\'s turn: '\u001b[0m\u001b[1;33m)\u001b[0m\u001b[1;33m\u001b[0m\u001b[0m\n\u001b[0;32m     22\u001b[0m         \u001b[1;32mif\u001b[0m \u001b[0mfield\u001b[0m \u001b[1;33m==\u001b[0m \u001b[1;34m'q'\u001b[0m\u001b[1;33m:\u001b[0m\u001b[1;33m\u001b[0m\u001b[0m\n\u001b[1;32m---> 23\u001b[1;33m             \u001b[1;32mraise\u001b[0m \u001b[0mException\u001b[0m\u001b[1;33m(\u001b[0m\u001b[1;34m'manual exit'\u001b[0m\u001b[1;33m)\u001b[0m\u001b[1;33m\u001b[0m\u001b[0m\n\u001b[0m\u001b[0;32m     24\u001b[0m         \u001b[1;32melif\u001b[0m \u001b[0mfield\u001b[0m \u001b[1;32mnot\u001b[0m \u001b[1;32min\u001b[0m \u001b[0mlegend\u001b[0m\u001b[1;33m:\u001b[0m\u001b[1;33m\u001b[0m\u001b[0m\n\u001b[0;32m     25\u001b[0m             \u001b[0mprint\u001b[0m\u001b[1;33m(\u001b[0m\u001b[1;34m'nope, choose available number from 1 - 9'\u001b[0m\u001b[1;33m)\u001b[0m\u001b[1;33m\u001b[0m\u001b[0m\n",
      "\u001b[1;31mException\u001b[0m: manual exit"
     ]
    }
   ],
   "source": [
    "from IPython.display import clear_output\n",
    "\n",
    "def printBoard(vector):\n",
    "    print('')\n",
    "    for i in range(5):\n",
    "        if i % 2 != 0:\n",
    "            print('-+-+-     -+-+-')\n",
    "        else:\n",
    "            for j in range(2):\n",
    "                l = j + int(i/2) * 3\n",
    "                print(vector[l] + '|', end = '')\n",
    "            print(vector[l + 1] + '     ', end = '')\n",
    "            for j in range(2):\n",
    "                l = j + int(i/2) * 3\n",
    "                print(legend[l] + '|', end = '')\n",
    "            print(legend[l + 1])\n",
    "    print('')\n",
    "\n",
    "def userInput():\n",
    "    while True:\n",
    "        field = input(symbol + '\\'s turn: ')\n",
    "        if field == 'q':\n",
    "            raise Exception('manual exit')\n",
    "        elif field not in legend:\n",
    "            print('nope, choose available number from 1 - 9')\n",
    "        else:\n",
    "            break\n",
    "    return int(field) - 1\n",
    "\n",
    "def setSymbol(char):\n",
    "    x = userInput()\n",
    "    vector[x] = char\n",
    "    legend[x] = ' '\n",
    "\n",
    "def winCheck(vector):\n",
    "    if ''.join(vector[0:3]) in check or \\\n",
    "       ''.join(vector[3:6]) in check or \\\n",
    "       ''.join(vector[6:9]) in check or \\\n",
    "       ''.join(vector[0::3]) in check or \\\n",
    "       ''.join(vector[1::3]) in check or \\\n",
    "       ''.join(vector[2::3]) in check or \\\n",
    "       ''.join(vector[0::4]) in check or \\\n",
    "       ''.join(vector[2::2]) in check:\n",
    "        return True\n",
    "    return False\n",
    "\n",
    "vector = [' ', ' ', ' ', ' ', ' ', ' ', ' ', ' ', ' ']\n",
    "legend = ['1', '2', '3', '4', '5', '6', '7', '8', '9']\n",
    "symbol = 'X'\n",
    "check = ['XXX','OOO']\n",
    "\n",
    "printBoard(vector)\n",
    "\n",
    "for k in range(9):\n",
    "    setSymbol(symbol)\n",
    "    clear_output()\n",
    "    printBoard(vector)\n",
    "    if winCheck(vector) == True:\n",
    "        print('player', symbol, 'won!')\n",
    "        break\n",
    "    if symbol == 'X':\n",
    "        symbol = 'O'\n",
    "    else:\n",
    "        symbol = 'X'\n",
    "else:\n",
    "    print('it\\'s a draw. boring.')"
   ]
  }
 ],
 "metadata": {
  "kernelspec": {
   "display_name": "Python 3",
   "language": "python",
   "name": "python3"
  },
  "language_info": {
   "codemirror_mode": {
    "name": "ipython",
    "version": 3
   },
   "file_extension": ".py",
   "mimetype": "text/x-python",
   "name": "python",
   "nbconvert_exporter": "python",
   "pygments_lexer": "ipython3",
   "version": "3.5.3"
  }
 },
 "nbformat": 4,
 "nbformat_minor": 2
}
