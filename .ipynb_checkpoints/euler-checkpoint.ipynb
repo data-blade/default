{
 "cells": [
  {
   "cell_type": "code",
   "execution_count": 1,
   "metadata": {
    "collapsed": true
   },
   "outputs": [],
   "source": [
    "import itertools as it\n",
    "import math\n",
    "import scipy.special as ssp\n",
    "import timeit\n",
    "import time\n",
    "import numpy\n",
    "from IPython.display import clear_output as co"
   ]
  },
  {
   "cell_type": "code",
   "execution_count": 2,
   "metadata": {
    "collapsed": true
   },
   "outputs": [],
   "source": [
    "def primeTest(n):\n",
    "    if n < 2:\n",
    "        return False\n",
    "    for i in range(2,int(math.sqrt(n))+1):\n",
    "        if n % i == 0:\n",
    "            return False\n",
    "    return True"
   ]
  },
  {
   "cell_type": "code",
   "execution_count": 29,
   "metadata": {},
   "outputs": [
    {
     "data": {
      "text/plain": [
       "233168"
      ]
     },
     "execution_count": 29,
     "metadata": {},
     "output_type": "execute_result"
    }
   ],
   "source": [
    "#01 - steps = n\n",
    "\n",
    "n = 1000\n",
    "a = 3\n",
    "b = 5\n",
    "\n",
    "s = 0\n",
    "for i in range(n):\n",
    "    if i % a == 0 or i % b == 0:\n",
    "        s += i\n",
    "s"
   ]
  },
  {
   "cell_type": "code",
   "execution_count": 31,
   "metadata": {},
   "outputs": [
    {
     "data": {
      "text/plain": [
       "233168"
      ]
     },
     "execution_count": 31,
     "metadata": {},
     "output_type": "execute_result"
    }
   ],
   "source": [
    "#01 - steps <= n\n",
    "\n",
    "list_a = [x * a for x in range((n-1) // a + 1)]\n",
    "list_b = [x * b for x in range((n-1) // b + 1)]\n",
    "sum(set(list_a + list_b))"
   ]
  },
  {
   "cell_type": "code",
   "execution_count": 46,
   "metadata": {},
   "outputs": [
    {
     "data": {
      "text/plain": [
       "4613732"
      ]
     },
     "execution_count": 46,
     "metadata": {},
     "output_type": "execute_result"
    }
   ],
   "source": [
    "#02\n",
    "\n",
    "a = 4000000\n",
    "l = [0,1]\n",
    "while sum(l[-2:]) < a:\n",
    "    l.append(sum(l[-2:]))\n",
    "sum([x for x in l if x % 2 == 0])"
   ]
  },
  {
   "cell_type": "code",
   "execution_count": 68,
   "metadata": {},
   "outputs": [
    {
     "data": {
      "text/plain": [
       "6857"
      ]
     },
     "execution_count": 68,
     "metadata": {},
     "output_type": "execute_result"
    }
   ],
   "source": [
    "#03\n",
    "\n",
    "a = 600851475143\n",
    "f = int(a**(1/2))\n",
    "\n",
    "while not (a % f == 0 and primeTest(f)):\n",
    "    f -= 1\n",
    "f"
   ]
  },
  {
   "cell_type": "code",
   "execution_count": 91,
   "metadata": {},
   "outputs": [
    {
     "data": {
      "text/plain": [
       "906609"
      ]
     },
     "execution_count": 91,
     "metadata": {},
     "output_type": "execute_result"
    }
   ],
   "source": [
    "#04\n",
    "\n",
    "l = []\n",
    "r = list(it.combinations_with_replacement(range(900, 1000), 2))\n",
    "for i in r:\n",
    "    l.append(i[0] * i[1])\n",
    "for i in sorted(l, reverse=True):\n",
    "    if str(i) == str(i)[::-1]:\n",
    "        break\n",
    "i"
   ]
  },
  {
   "cell_type": "code",
   "execution_count": 122,
   "metadata": {},
   "outputs": [
    {
     "name": "stdout",
     "output_type": "stream",
     "text": [
      "higher than range max\n"
     ]
    },
    {
     "data": {
      "text/plain": [
       "10000000"
      ]
     },
     "execution_count": 122,
     "metadata": {},
     "output_type": "execute_result"
    }
   ],
   "source": [
    "#05 - brute\n",
    "\n",
    "for i in range(20, 10000001)[::20]: #upper limit math.factorial(20)\n",
    "    for j in range(19, 1, -1):\n",
    "        if i % j != 0:\n",
    "            break\n",
    "    else:\n",
    "        break\n",
    "else:\n",
    "    print('higher than range max')\n",
    "i"
   ]
  },
  {
   "cell_type": "code",
   "execution_count": 126,
   "metadata": {},
   "outputs": [
    {
     "data": {
      "text/plain": [
       "25164150"
      ]
     },
     "execution_count": 126,
     "metadata": {},
     "output_type": "execute_result"
    }
   ],
   "source": [
    "#06\n",
    "\n",
    "a = 100\n",
    "sum(range(a+1))**2 - sum([x**2 for x in range(a+1)])"
   ]
  },
  {
   "cell_type": "code",
   "execution_count": 136,
   "metadata": {},
   "outputs": [
    {
     "data": {
      "text/plain": [
       "104743"
      ]
     },
     "execution_count": 136,
     "metadata": {},
     "output_type": "execute_result"
    }
   ],
   "source": [
    "#07\n",
    "\n",
    "a = 10001\n",
    "b = 2\n",
    "i = 0\n",
    "while i < a:\n",
    "    if primeTest(b):\n",
    "       i += 1\n",
    "    b += 1\n",
    "b-1"
   ]
  },
  {
   "cell_type": "code",
   "execution_count": 149,
   "metadata": {},
   "outputs": [
    {
     "data": {
      "text/plain": [
       "23514624000"
      ]
     },
     "execution_count": 149,
     "metadata": {},
     "output_type": "execute_result"
    }
   ],
   "source": [
    "#08\n",
    "\n",
    "a = '7316717653133062491922511967442657474235534919493496983520312774506326239578318016984801869478851843858615607891129494954595017379583319528532088055111254069874715852386305071569329096329522744304355766896648950445244523161731856403098711121722383113622298934233803081353362766142828064444866452387493035890729629049156044077239071381051585930796086670172427121883998797908792274921901699720888093776657273330010533678812202354218097512545405947522435258490771167055601360483958644670632441572215539753697817977846174064955149290862569321978468622482839722413756570560574902614079729686524145351004748216637048440319989000889524345065854122758866688116427171479924442928230863465674813919123162824586178664583591245665294765456828489128831426076900422421902267105562632111110937054421750694165896040807198403850962455444362981230987879927244284909188845801561660979191338754992005240636899125607176060588611646710940507754100225698315520005593572972571636269561882670428252483600823257530420752963450'\n",
    "slice = 13\n",
    "l = []\n",
    "for i in range(len(a)-slice):\n",
    "    product = 1\n",
    "    for j in range(slice):\n",
    "        product = product * int(a[i+j])\n",
    "    l.append(product)\n",
    "max(l)"
   ]
  },
  {
   "cell_type": "code",
   "execution_count": 146,
   "metadata": {},
   "outputs": [
    {
     "data": {
      "text/plain": [
       "142913828922"
      ]
     },
     "execution_count": 146,
     "metadata": {},
     "output_type": "execute_result"
    }
   ],
   "source": [
    "#10\n",
    "\n",
    "s = 0\n",
    "for i in range(2,2000000):\n",
    "    if primeTest(i):\n",
    "        s += i\n",
    "s"
   ]
  },
  {
   "cell_type": "code",
   "execution_count": 156,
   "metadata": {},
   "outputs": [
    {
     "data": {
      "text/plain": [
       "1366"
      ]
     },
     "execution_count": 156,
     "metadata": {},
     "output_type": "execute_result"
    }
   ],
   "source": [
    "#16\n",
    "\n",
    "sum([int(x) for x in str(2**1000)])"
   ]
  },
  {
   "cell_type": "code",
   "execution_count": 166,
   "metadata": {},
   "outputs": [
    {
     "data": {
      "text/plain": [
       "5537376230390876637302048746832985971773659831892672"
      ]
     },
     "execution_count": 166,
     "metadata": {},
     "output_type": "execute_result"
    }
   ],
   "source": [
    "#13\n",
    "\n",
    "a = (\n",
    "    37107287533902102798797998220837590246510135740250,\n",
    "    46376937677490009712648124896970078050417018260538,\n",
    "    74324986199524741059474233309513058123726617309629,\n",
    "    91942213363574161572522430563301811072406154908250,\n",
    "    23067588207539346171171980310421047513778063246676,\n",
    "    89261670696623633820136378418383684178734361726757,\n",
    "    28112879812849979408065481931592621691275889832738,\n",
    "    44274228917432520321923589422876796487670272189318,\n",
    "    47451445736001306439091167216856844588711603153276,\n",
    "    70386486105843025439939619828917593665686757934951,\n",
    "    62176457141856560629502157223196586755079324193331,\n",
    "    64906352462741904929101432445813822663347944758178,\n",
    "    92575867718337217661963751590579239728245598838407,\n",
    "    58203565325359399008402633568948830189458628227828,\n",
    "    80181199384826282014278194139940567587151170094390,\n",
    "    35398664372827112653829987240784473053190104293586,\n",
    "    86515506006295864861532075273371959191420517255829,\n",
    "    71693888707715466499115593487603532921714970056938,\n",
    "    54370070576826684624621495650076471787294438377604,\n",
    "    53282654108756828443191190634694037855217779295145,\n",
    "    36123272525000296071075082563815656710885258350721,\n",
    "    45876576172410976447339110607218265236877223636045,\n",
    "    17423706905851860660448207621209813287860733969412,\n",
    "    81142660418086830619328460811191061556940512689692,\n",
    "    51934325451728388641918047049293215058642563049483,\n",
    "    62467221648435076201727918039944693004732956340691,\n",
    "    15732444386908125794514089057706229429197107928209,\n",
    "    55037687525678773091862540744969844508330393682126,\n",
    "    18336384825330154686196124348767681297534375946515,\n",
    "    80386287592878490201521685554828717201219257766954,\n",
    "    78182833757993103614740356856449095527097864797581,\n",
    "    16726320100436897842553539920931837441497806860984,\n",
    "    48403098129077791799088218795327364475675590848030,\n",
    "    87086987551392711854517078544161852424320693150332,\n",
    "    59959406895756536782107074926966537676326235447210,\n",
    "    69793950679652694742597709739166693763042633987085,\n",
    "    41052684708299085211399427365734116182760315001271,\n",
    "    65378607361501080857009149939512557028198746004375,\n",
    "    35829035317434717326932123578154982629742552737307,\n",
    "    94953759765105305946966067683156574377167401875275,\n",
    "    88902802571733229619176668713819931811048770190271,\n",
    "    25267680276078003013678680992525463401061632866526,\n",
    "    36270218540497705585629946580636237993140746255962,\n",
    "    24074486908231174977792365466257246923322810917141,\n",
    "    91430288197103288597806669760892938638285025333403,\n",
    "    34413065578016127815921815005561868836468420090470,\n",
    "    23053081172816430487623791969842487255036638784583,\n",
    "    11487696932154902810424020138335124462181441773470,\n",
    "    63783299490636259666498587618221225225512486764533,\n",
    "    67720186971698544312419572409913959008952310058822,\n",
    "    95548255300263520781532296796249481641953868218774,\n",
    "    76085327132285723110424803456124867697064507995236,\n",
    "    37774242535411291684276865538926205024910326572967,\n",
    "    23701913275725675285653248258265463092207058596522,\n",
    "    29798860272258331913126375147341994889534765745501,\n",
    "    18495701454879288984856827726077713721403798879715,\n",
    "    38298203783031473527721580348144513491373226651381,\n",
    "    34829543829199918180278916522431027392251122869539,\n",
    "    40957953066405232632538044100059654939159879593635,\n",
    "    29746152185502371307642255121183693803580388584903,\n",
    "    41698116222072977186158236678424689157993532961922,\n",
    "    62467957194401269043877107275048102390895523597457,\n",
    "    23189706772547915061505504953922979530901129967519,\n",
    "    86188088225875314529584099251203829009407770775672,\n",
    "    11306739708304724483816533873502340845647058077308,\n",
    "    82959174767140363198008187129011875491310547126581,\n",
    "    97623331044818386269515456334926366572897563400500,\n",
    "    42846280183517070527831839425882145521227251250327,\n",
    "    55121603546981200581762165212827652751691296897789,\n",
    "    32238195734329339946437501907836945765883352399886,\n",
    "    75506164965184775180738168837861091527357929701337,\n",
    "    62177842752192623401942399639168044983993173312731,\n",
    "    32924185707147349566916674687634660915035914677504,\n",
    "    99518671430235219628894890102423325116913619626622,\n",
    "    73267460800591547471830798392868535206946944540724,\n",
    "    76841822524674417161514036427982273348055556214818,\n",
    "    97142617910342598647204516893989422179826088076852,\n",
    "    87783646182799346313767754307809363333018982642090,\n",
    "    10848802521674670883215120185883543223812876952786,\n",
    "    71329612474782464538636993009049310363619763878039,\n",
    "    62184073572399794223406235393808339651327408011116,\n",
    "    66627891981488087797941876876144230030984490851411,\n",
    "    60661826293682836764744779239180335110989069790714,\n",
    "    85786944089552990653640447425576083659976645795096,\n",
    "    66024396409905389607120198219976047599490197230297,\n",
    "    64913982680032973156037120041377903785566085089252,\n",
    "    16730939319872750275468906903707539413042652315011,\n",
    "    94809377245048795150954100921645863754710598436791,\n",
    "    78639167021187492431995700641917969777599028300699,\n",
    "    15368713711936614952811305876380278410754449733078,\n",
    "    40789923115535562561142322423255033685442488917353,\n",
    "    44889911501440648020369068063960672322193204149535,\n",
    "    41503128880339536053299340368006977710650566631954,\n",
    "    81234880673210146739058568557934581403627822703280,\n",
    "    82616570773948327592232845941706525094512325230608,\n",
    "    22918802058777319719839450180888072429661980811197,\n",
    "    77158542502016545090413245809786882778948721859617,\n",
    "    72107838435069186155435662884062257473692284509516,\n",
    "    20849603980134001723930671666823555245252804609722,\n",
    "    53503534226472524250874054075591789781264330331690\n",
    ")\n",
    "sum(a)"
   ]
  },
  {
   "cell_type": "code",
   "execution_count": 4,
   "metadata": {},
   "outputs": [
    {
     "data": {
      "text/plain": [
       "76576500"
      ]
     },
     "execution_count": 4,
     "metadata": {},
     "output_type": "execute_result"
    }
   ],
   "source": [
    "#12 - brute, todo: try larger step incements\n",
    "\n",
    "def divisors(n):\n",
    "    div = 2\n",
    "    for i in range(2,int(math.sqrt(n))):\n",
    "        if n % i == 0:\n",
    "            div += 2\n",
    "    return div\n",
    "tri = 1\n",
    "i = 1\n",
    "while True:\n",
    "    if divisors(tri) > 500:\n",
    "        break\n",
    "    i += 1\n",
    "    tri += i\n",
    "tri"
   ]
  },
  {
   "cell_type": "code",
   "execution_count": 8,
   "metadata": {},
   "outputs": [
    {
     "data": {
      "text/plain": [
       "837799"
      ]
     },
     "execution_count": 8,
     "metadata": {},
     "output_type": "execute_result"
    }
   ],
   "source": [
    "#14\n",
    "\n",
    "collatz = 0\n",
    "most_steps = 0\n",
    "\n",
    "for i in range(999999,500000,-1): #cut comp short\n",
    "    n = i\n",
    "    steps = 1\n",
    "    \n",
    "    while n != 1:\n",
    "        if n % 2 == 0:\n",
    "            n = n / 2\n",
    "        else:\n",
    "            n = n * 3 + 1\n",
    "        steps += 1\n",
    "        \n",
    "    if steps > most_steps:\n",
    "        most_steps = steps\n",
    "        collatz = i\n",
    "\n",
    "collatz"
   ]
  },
  {
   "cell_type": "code",
   "execution_count": 13,
   "metadata": {},
   "outputs": [
    {
     "ename": "NameError",
     "evalue": "name 'x' is not defined",
     "output_type": "error",
     "traceback": [
      "\u001b[1;31m---------------------------------------------------------------------------\u001b[0m",
      "\u001b[1;31mNameError\u001b[0m                                 Traceback (most recent call last)",
      "\u001b[1;32m<ipython-input-13-4b8f5ed47c6a>\u001b[0m in \u001b[0;36m<module>\u001b[1;34m()\u001b[0m\n\u001b[0;32m      7\u001b[0m \u001b[1;31m#    return result\u001b[0m\u001b[1;33m\u001b[0m\u001b[1;33m\u001b[0m\u001b[0m\n\u001b[0;32m      8\u001b[0m \u001b[1;31m#factorial(40)\u001b[0m\u001b[1;33m\u001b[0m\u001b[1;33m\u001b[0m\u001b[0m\n\u001b[1;32m----> 9\u001b[1;33m \u001b[0mssp\u001b[0m\u001b[1;33m.\u001b[0m\u001b[0mbinom\u001b[0m\u001b[1;33m(\u001b[0m\u001b[0mx\u001b[0m\u001b[1;33m+\u001b[0m\u001b[0mi\u001b[0m\u001b[1;33m,\u001b[0m \u001b[0mi\u001b[0m\u001b[1;33m+\u001b[0m\u001b[1;36m1\u001b[0m\u001b[1;33m)\u001b[0m \u001b[1;33m>>\u001b[0m \u001b[0mmath\u001b[0m\u001b[1;33m.\u001b[0m\u001b[0mfactorial\u001b[0m\u001b[1;33m(\u001b[0m\u001b[0mx\u001b[0m\u001b[1;33m+\u001b[0m\u001b[0mi\u001b[0m\u001b[1;33m)\u001b[0m \u001b[1;33m/\u001b[0m  \u001b[0mmath\u001b[0m\u001b[1;33m.\u001b[0m\u001b[0mfactorial\u001b[0m\u001b[1;33m(\u001b[0m\u001b[0mi\u001b[0m\u001b[1;33m+\u001b[0m\u001b[1;36m1\u001b[0m\u001b[1;33m)\u001b[0m \u001b[1;33m/\u001b[0m \u001b[0mmath\u001b[0m\u001b[1;33m.\u001b[0m\u001b[0mfactorial\u001b[0m\u001b[1;33m(\u001b[0m\u001b[0mx\u001b[0m\u001b[1;33m-\u001b[0m\u001b[1;36m1\u001b[0m\u001b[1;33m)\u001b[0m\u001b[1;33m\u001b[0m\u001b[0m\n\u001b[0m\u001b[0;32m     10\u001b[0m \u001b[0mtimeit\u001b[0m\u001b[1;33m.\u001b[0m\u001b[0mdefault_timer\u001b[0m\u001b[1;33m(\u001b[0m\u001b[1;33m)\u001b[0m \u001b[1;33m-\u001b[0m \u001b[0mtic\u001b[0m\u001b[1;33m\u001b[0m\u001b[0m\n",
      "\u001b[1;31mNameError\u001b[0m: name 'x' is not defined"
     ]
    }
   ],
   "source": [
    "#15\n",
    "#todo: support non-square grids\n",
    "tic = timeit.default_timer()\n",
    "#sum([ssp.binom(20+i, i+1) for i in range(20)]) + 1\n",
    "#def binom(number):\n",
    "#    result = math.factorial(number)/((math.factorial(int(number/2)) ^ 2)\n",
    "#    return result\n",
    "#binom(40)\n",
    "ssp.binom(x+i, i+1) >> math.factorial(x+i) /  math.factorial(i+1) / math.factorial(x-1)\n",
    "timeit.default_timer() - tic"
   ]
  },
  {
   "cell_type": "code",
   "execution_count": 32,
   "metadata": {},
   "outputs": [
    {
     "data": {
      "text/plain": [
       "648"
      ]
     },
     "execution_count": 32,
     "metadata": {},
     "output_type": "execute_result"
    }
   ],
   "source": [
    "#20\n",
    "\n",
    "a = 100\n",
    "sum([int(x) for x in str(math.factorial(a))])"
   ]
  },
  {
   "cell_type": "code",
   "execution_count": 37,
   "metadata": {},
   "outputs": [
    {
     "data": {
      "text/plain": [
       "'9110846700'"
      ]
     },
     "execution_count": 37,
     "metadata": {},
     "output_type": "execute_result"
    }
   ],
   "source": [
    "#48\n",
    "\n",
    "a = 1000\n",
    "s = str(sum([x**x for x in range(1,a+1)]))\n",
    "s[len(s)-10:]"
   ]
  },
  {
   "cell_type": "code",
   "execution_count": 42,
   "metadata": {},
   "outputs": [
    {
     "data": {
      "text/plain": [
       "4782"
      ]
     },
     "execution_count": 42,
     "metadata": {},
     "output_type": "execute_result"
    }
   ],
   "source": [
    "#25\n",
    "\n",
    "a = b = i = 1\n",
    "\n",
    "while len(str(b)) < 1000:\n",
    "    a, b = b, a+b\n",
    "    i += 1\n",
    "\n",
    "i+1"
   ]
  },
  {
   "cell_type": "code",
   "execution_count": 2,
   "metadata": {},
   "outputs": [
    {
     "name": "stdout",
     "output_type": "stream",
     "text": [
      "31875000\n"
     ]
    }
   ],
   "source": [
    "#09\n",
    "\n",
    "def pyFinder(x):\n",
    "    for a in range(1, x//3):\n",
    "        for b in range(a+1, (x-a)//2):\n",
    "            if a**2 + b**2 - (x-a-b)**2 == 0:\n",
    "                return a * b * (x-a-b)\n",
    "print(pyFinder(1000))"
   ]
  },
  {
   "cell_type": "code",
   "execution_count": 3,
   "metadata": {},
   "outputs": [
    {
     "data": {
      "text/plain": [
       "21124"
      ]
     },
     "execution_count": 3,
     "metadata": {},
     "output_type": "execute_result"
    }
   ],
   "source": [
    "#17\n",
    "\n",
    "a = len('one' + 'two' + 'three' + 'four' + 'five' + 'six' + 'seven' + 'eight' + 'nine')\n",
    "b = len('ten' + 'eleven' + 'twelve' + 'thirteen' + 'fourteen' + 'fifteen' + 'sixteen' + 'seventeen' + 'eighteen' + 'nineteen')\n",
    "c = len('twenty' + 'thirty' + 'forty' + 'fifty' + 'sixty' + 'seventy' + 'eighty' + 'ninety')\n",
    "d = len('and')\n",
    "e = len('hundred')\n",
    "\n",
    "a * (9*10+100) + b * 10 + c * (10*10) + d * (99*9) + e * (100*9) + len('one' + 'thousand')"
   ]
  },
  {
   "cell_type": "code",
   "execution_count": 3,
   "metadata": {},
   "outputs": [
    {
     "data": {
      "text/plain": [
       "171.42857142857142"
      ]
     },
     "execution_count": 3,
     "metadata": {},
     "output_type": "execute_result"
    }
   ],
   "source": [
    "#19\n",
    "\n",
    "100 * 12 / 7"
   ]
  },
  {
   "cell_type": "code",
   "execution_count": 45,
   "metadata": {},
   "outputs": [
    {
     "data": {
      "text/plain": [
       "504"
      ]
     },
     "execution_count": 45,
     "metadata": {},
     "output_type": "execute_result"
    }
   ],
   "source": [
    "#21\n",
    "\n",
    "def div_sum(x):\n",
    "    if x < 2:\n",
    "        return 0\n",
    "    else:\n",
    "        return sum([i for i in range(2, x // 2 + 1) if x % i == 0]) + 1\n",
    "\n",
    "amic_sum = 0\n",
    "for j in range(1000):\n",
    "    a = div_sum(j)\n",
    "    if j == div_sum(a) and j != a:\n",
    "        amic_sum += j\n",
    "amic_sum"
   ]
  },
  {
   "cell_type": "code",
   "execution_count": 31,
   "metadata": {},
   "outputs": [
    {
     "data": {
      "text/plain": [
       "'(2783915460)'"
      ]
     },
     "execution_count": 31,
     "metadata": {},
     "output_type": "execute_result"
    }
   ],
   "source": [
    "#24\n",
    "\n",
    "str(list(it.permutations(range(10)))[999999]).replace(', ', '')"
   ]
  },
  {
   "cell_type": "code",
   "execution_count": 37,
   "metadata": {},
   "outputs": [
    {
     "data": {
      "text/plain": [
       "443839"
      ]
     },
     "execution_count": 37,
     "metadata": {},
     "output_type": "execute_result"
    }
   ],
   "source": [
    "#30\n",
    "\n",
    "s = 0\n",
    "for i in range(10, 500000): #why upper limit?\n",
    "    if i == sum([int(d) ** 5 for d in str(i)]):\n",
    "        s += i\n",
    "s"
   ]
  },
  {
   "cell_type": "code",
   "execution_count": 38,
   "metadata": {},
   "outputs": [
    {
     "data": {
      "text/plain": [
       "9183"
      ]
     },
     "execution_count": 38,
     "metadata": {},
     "output_type": "execute_result"
    }
   ],
   "source": [
    "#29\n",
    "\n",
    "l = []\n",
    "for i in range(2,101):\n",
    "    for j in range(2, 101):\n",
    "        l.append(i ** j)\n",
    "len(set(l))"
   ]
  },
  {
   "cell_type": "code",
   "execution_count": 51,
   "metadata": {},
   "outputs": [
    {
     "data": {
      "text/plain": [
       "4179871"
      ]
     },
     "execution_count": 51,
     "metadata": {},
     "output_type": "execute_result"
    }
   ],
   "source": [
    "#23\n",
    "\n",
    "abund = [x for x in range(28124) if x < div_sum(x)]\n",
    "abund_sum = set([sum(x) for x in it.combinations_with_replacement(abund, 2)])\n",
    "sum([x for x in range(28124) if x not in abund_sum])"
   ]
  },
  {
   "cell_type": "code",
   "execution_count": 13,
   "metadata": {},
   "outputs": [
    {
     "data": {
      "text/plain": [
       "40730"
      ]
     },
     "execution_count": 13,
     "metadata": {},
     "output_type": "execute_result"
    }
   ],
   "source": [
    "#34\n",
    "\n",
    "s = 0\n",
    "for i in range(10, 50000): #why upper limit?\n",
    "    if i == sum([math.factorial(int(d)) for d in str(i)]):\n",
    "        s += i\n",
    "s"
   ]
  },
  {
   "cell_type": "code",
   "execution_count": 38,
   "metadata": {},
   "outputs": [
    {
     "data": {
      "text/plain": [
       "872187"
      ]
     },
     "execution_count": 38,
     "metadata": {},
     "output_type": "execute_result"
    }
   ],
   "source": [
    "#36\n",
    "\n",
    "sum([x for x in range(1000000) if str(x) == str(x)[::-1] and bin(x)[2:] == bin(x)[:1:-1]])"
   ]
  },
  {
   "cell_type": "code",
   "execution_count": 77,
   "metadata": {},
   "outputs": [
    {
     "data": {
      "text/plain": [
       "55"
      ]
     },
     "execution_count": 77,
     "metadata": {},
     "output_type": "execute_result"
    }
   ],
   "source": [
    "#35\n",
    "\n",
    "def rotations(n):\n",
    "    return list(set([int(str(n)[i:] + str(n)[:i]) for i in range(len(str(n)))]))\n",
    "\n",
    "primes = []\n",
    "for num in range(3,1000000,2):\n",
    "    if '0' in str(num) or \\\n",
    "       '2' in str(num) or \\\n",
    "       '4' in str(num) or \\\n",
    "       '6' in str(num) or \\\n",
    "       '8' in str(num):\n",
    "        continue\n",
    "    if primeTest(num):\n",
    "        primes.append(num)\n",
    "\n",
    "result = 1\n",
    "checked = []\n",
    "\n",
    "for i in primes:\n",
    "    if i in checked:\n",
    "        continue\n",
    "    l = rotations(i)\n",
    "    checked += l\n",
    "    for j in l:\n",
    "        if j not in primes:\n",
    "            break\n",
    "    else:\n",
    "        result += len(l)\n",
    "result"
   ]
  },
  {
   "cell_type": "code",
   "execution_count": 36,
   "metadata": {},
   "outputs": [
    {
     "data": {
      "text/plain": [
       "210"
      ]
     },
     "execution_count": 36,
     "metadata": {},
     "output_type": "execute_result"
    }
   ],
   "source": [
    "#40\n",
    "\n",
    "a = ''\n",
    "for i in range(200000):\n",
    "    a += str(i)\n",
    "int(a[1]) * int(a[10]) * int(a[100]) * int(a[1000]) * int(a[10000]) * int(a[100000]) * int(a[1000000])"
   ]
  },
  {
   "cell_type": "code",
   "execution_count": 65,
   "metadata": {},
   "outputs": [
    {
     "data": {
      "text/plain": [
       "162"
      ]
     },
     "execution_count": 65,
     "metadata": {},
     "output_type": "execute_result"
    }
   ],
   "source": [
    "#42\n",
    "\n",
    "tri = [x/2 * (x+1) for x in range(1,28)]\n",
    "f = open('data/p042_words.txt', 'r')\n",
    "a = f.readline()\n",
    "f.close()\n",
    "a = a.replace('\"', '')\n",
    "l = a.split(',')\n",
    "#max(len(x) for x in l)\n",
    "words = 0\n",
    "for word in l:\n",
    "    if sum(ord(letter) - 64 for letter in word) in tri:\n",
    "        words += 1\n",
    "words"
   ]
  },
  {
   "cell_type": "code",
   "execution_count": 54,
   "metadata": {},
   "outputs": [
    {
     "data": {
      "text/plain": [
       "1074"
      ]
     },
     "execution_count": 54,
     "metadata": {},
     "output_type": "execute_result"
    }
   ],
   "source": [
    "#18\n",
    "\n",
    "file = open('data/p018_triangle.txt', 'r')\n",
    "tri = [line.rstrip('\\n').split(' ') for line in file]\n",
    "#tri = f.read().splitlines()\n",
    "tri = [[int(x) for x in line] for line in tri]\n",
    "\n",
    "def pathsum(graph, psum, psums=[], i=1, j=0):\n",
    "    for n in range(2):\n",
    "        if n == 0:\n",
    "            psum += graph[i][j]\n",
    "        else:\n",
    "            psum -= graph[i][j]\n",
    "            psum += graph[i][j+1]\n",
    "            j += 1\n",
    "        if i == 14:\n",
    "            psums.append(psum)\n",
    "        else:\n",
    "            pathsum(graph, psum, psums, i+1, j)\n",
    "    return psums\n",
    "\n",
    "max(pathsum(tri, 75))"
   ]
  },
  {
   "cell_type": "code",
   "execution_count": 79,
   "metadata": {},
   "outputs": [
    {
     "data": {
      "text/plain": [
       "871198282"
      ]
     },
     "execution_count": 79,
     "metadata": {},
     "output_type": "execute_result"
    }
   ],
   "source": [
    "#22\n",
    "\n",
    "file = open('data/p022_names.txt', 'r')\n",
    "names = list(enumerate(sorted(file.readline().replace('\"', '').split(',')), 1))\n",
    "\n",
    "sum([sum([ord(letter) - 64 for letter in name]) * i for i, name in names])    "
   ]
  },
  {
   "cell_type": "code",
   "execution_count": 97,
   "metadata": {},
   "outputs": [
    {
     "data": {
      "text/plain": [
       "669171001"
      ]
     },
     "execution_count": 97,
     "metadata": {},
     "output_type": "execute_result"
    }
   ],
   "source": [
    "#28\n",
    "\n",
    "sum([sum(range((i+1)**2, (i-1)**2, -i)) for i in range(2, 1001, 2)]) + 1"
   ]
  },
  {
   "cell_type": "code",
   "execution_count": 99,
   "metadata": {},
   "outputs": [
    {
     "ename": "KeyboardInterrupt",
     "evalue": "",
     "output_type": "error",
     "traceback": [
      "\u001b[1;31m---------------------------------------------------------------------------\u001b[0m",
      "\u001b[1;31mKeyboardInterrupt\u001b[0m                         Traceback (most recent call last)",
      "\u001b[1;32m<ipython-input-99-daa1e007d7a6>\u001b[0m in \u001b[0;36m<module>\u001b[1;34m()\u001b[0m\n\u001b[0;32m     26\u001b[0m     \u001b[1;32mreturn\u001b[0m \u001b[0mcombos\u001b[0m\u001b[1;33m\u001b[0m\u001b[0m\n\u001b[0;32m     27\u001b[0m \u001b[1;33m\u001b[0m\u001b[0m\n\u001b[1;32m---> 28\u001b[1;33m \u001b[0mcoinsum\u001b[0m\u001b[1;33m(\u001b[0m\u001b[0ma\u001b[0m\u001b[1;33m)\u001b[0m \u001b[1;33m+\u001b[0m \u001b[1;36m1\u001b[0m\u001b[1;33m\u001b[0m\u001b[0m\n\u001b[0m",
      "\u001b[1;32m<ipython-input-99-daa1e007d7a6>\u001b[0m in \u001b[0;36mcoinsum\u001b[1;34m(coins, i, csum, combos)\u001b[0m\n\u001b[0;32m      9\u001b[0m         \u001b[1;32mif\u001b[0m \u001b[0mi\u001b[0m \u001b[1;33m<\u001b[0m \u001b[1;36m6\u001b[0m\u001b[1;33m:\u001b[0m\u001b[1;33m\u001b[0m\u001b[0m\n\u001b[0;32m     10\u001b[0m             \u001b[1;32mif\u001b[0m \u001b[0mcsum\u001b[0m \u001b[1;33m<\u001b[0m \u001b[1;36m200\u001b[0m\u001b[1;33m:\u001b[0m\u001b[1;33m\u001b[0m\u001b[0m\n\u001b[1;32m---> 11\u001b[1;33m                 \u001b[0mcoinsum\u001b[0m\u001b[1;33m(\u001b[0m\u001b[0mcoins\u001b[0m\u001b[1;33m,\u001b[0m \u001b[0mi\u001b[0m\u001b[1;33m+\u001b[0m\u001b[1;36m1\u001b[0m\u001b[1;33m,\u001b[0m \u001b[0mcsum\u001b[0m\u001b[1;33m,\u001b[0m \u001b[0mcombos\u001b[0m\u001b[1;33m)\u001b[0m\u001b[1;33m\u001b[0m\u001b[0m\n\u001b[0m\u001b[0;32m     12\u001b[0m             \u001b[1;32melif\u001b[0m \u001b[0mcsum\u001b[0m \u001b[1;33m>\u001b[0m \u001b[1;36m200\u001b[0m\u001b[1;33m:\u001b[0m\u001b[1;33m\u001b[0m\u001b[0m\n\u001b[0;32m     13\u001b[0m                 \u001b[0mcsum\u001b[0m \u001b[1;33m-=\u001b[0m \u001b[0mc\u001b[0m\u001b[1;33m\u001b[0m\u001b[0m\n",
      "\u001b[1;32m<ipython-input-99-daa1e007d7a6>\u001b[0m in \u001b[0;36mcoinsum\u001b[1;34m(coins, i, csum, combos)\u001b[0m\n\u001b[0;32m     12\u001b[0m             \u001b[1;32melif\u001b[0m \u001b[0mcsum\u001b[0m \u001b[1;33m>\u001b[0m \u001b[1;36m200\u001b[0m\u001b[1;33m:\u001b[0m\u001b[1;33m\u001b[0m\u001b[0m\n\u001b[0;32m     13\u001b[0m                 \u001b[0mcsum\u001b[0m \u001b[1;33m-=\u001b[0m \u001b[0mc\u001b[0m\u001b[1;33m\u001b[0m\u001b[0m\n\u001b[1;32m---> 14\u001b[1;33m                 \u001b[0mcoinsum\u001b[0m\u001b[1;33m(\u001b[0m\u001b[0mcoins\u001b[0m\u001b[1;33m,\u001b[0m \u001b[0mi\u001b[0m\u001b[1;33m+\u001b[0m\u001b[1;36m1\u001b[0m\u001b[1;33m,\u001b[0m \u001b[0mcsum\u001b[0m\u001b[1;33m,\u001b[0m \u001b[0mcombos\u001b[0m\u001b[1;33m)\u001b[0m\u001b[1;33m\u001b[0m\u001b[0m\n\u001b[0m\u001b[0;32m     15\u001b[0m             \u001b[1;32melse\u001b[0m\u001b[1;33m:\u001b[0m\u001b[1;33m\u001b[0m\u001b[0m\n\u001b[0;32m     16\u001b[0m                 \u001b[0mcombos\u001b[0m \u001b[1;33m+=\u001b[0m \u001b[1;36m1\u001b[0m\u001b[1;33m\u001b[0m\u001b[0m\n",
      "\u001b[1;32m<ipython-input-99-daa1e007d7a6>\u001b[0m in \u001b[0;36mcoinsum\u001b[1;34m(coins, i, csum, combos)\u001b[0m\n\u001b[0;32m     12\u001b[0m             \u001b[1;32melif\u001b[0m \u001b[0mcsum\u001b[0m \u001b[1;33m>\u001b[0m \u001b[1;36m200\u001b[0m\u001b[1;33m:\u001b[0m\u001b[1;33m\u001b[0m\u001b[0m\n\u001b[0;32m     13\u001b[0m                 \u001b[0mcsum\u001b[0m \u001b[1;33m-=\u001b[0m \u001b[0mc\u001b[0m\u001b[1;33m\u001b[0m\u001b[0m\n\u001b[1;32m---> 14\u001b[1;33m                 \u001b[0mcoinsum\u001b[0m\u001b[1;33m(\u001b[0m\u001b[0mcoins\u001b[0m\u001b[1;33m,\u001b[0m \u001b[0mi\u001b[0m\u001b[1;33m+\u001b[0m\u001b[1;36m1\u001b[0m\u001b[1;33m,\u001b[0m \u001b[0mcsum\u001b[0m\u001b[1;33m,\u001b[0m \u001b[0mcombos\u001b[0m\u001b[1;33m)\u001b[0m\u001b[1;33m\u001b[0m\u001b[0m\n\u001b[0m\u001b[0;32m     15\u001b[0m             \u001b[1;32melse\u001b[0m\u001b[1;33m:\u001b[0m\u001b[1;33m\u001b[0m\u001b[0m\n\u001b[0;32m     16\u001b[0m                 \u001b[0mcombos\u001b[0m \u001b[1;33m+=\u001b[0m \u001b[1;36m1\u001b[0m\u001b[1;33m\u001b[0m\u001b[0m\n",
      "\u001b[1;32m<ipython-input-99-daa1e007d7a6>\u001b[0m in \u001b[0;36mcoinsum\u001b[1;34m(coins, i, csum, combos)\u001b[0m\n\u001b[0;32m     12\u001b[0m             \u001b[1;32melif\u001b[0m \u001b[0mcsum\u001b[0m \u001b[1;33m>\u001b[0m \u001b[1;36m200\u001b[0m\u001b[1;33m:\u001b[0m\u001b[1;33m\u001b[0m\u001b[0m\n\u001b[0;32m     13\u001b[0m                 \u001b[0mcsum\u001b[0m \u001b[1;33m-=\u001b[0m \u001b[0mc\u001b[0m\u001b[1;33m\u001b[0m\u001b[0m\n\u001b[1;32m---> 14\u001b[1;33m                 \u001b[0mcoinsum\u001b[0m\u001b[1;33m(\u001b[0m\u001b[0mcoins\u001b[0m\u001b[1;33m,\u001b[0m \u001b[0mi\u001b[0m\u001b[1;33m+\u001b[0m\u001b[1;36m1\u001b[0m\u001b[1;33m,\u001b[0m \u001b[0mcsum\u001b[0m\u001b[1;33m,\u001b[0m \u001b[0mcombos\u001b[0m\u001b[1;33m)\u001b[0m\u001b[1;33m\u001b[0m\u001b[0m\n\u001b[0m\u001b[0;32m     15\u001b[0m             \u001b[1;32melse\u001b[0m\u001b[1;33m:\u001b[0m\u001b[1;33m\u001b[0m\u001b[0m\n\u001b[0;32m     16\u001b[0m                 \u001b[0mcombos\u001b[0m \u001b[1;33m+=\u001b[0m \u001b[1;36m1\u001b[0m\u001b[1;33m\u001b[0m\u001b[0m\n",
      "\u001b[1;32m<ipython-input-99-daa1e007d7a6>\u001b[0m in \u001b[0;36mcoinsum\u001b[1;34m(coins, i, csum, combos)\u001b[0m\n\u001b[0;32m     12\u001b[0m             \u001b[1;32melif\u001b[0m \u001b[0mcsum\u001b[0m \u001b[1;33m>\u001b[0m \u001b[1;36m200\u001b[0m\u001b[1;33m:\u001b[0m\u001b[1;33m\u001b[0m\u001b[0m\n\u001b[0;32m     13\u001b[0m                 \u001b[0mcsum\u001b[0m \u001b[1;33m-=\u001b[0m \u001b[0mc\u001b[0m\u001b[1;33m\u001b[0m\u001b[0m\n\u001b[1;32m---> 14\u001b[1;33m                 \u001b[0mcoinsum\u001b[0m\u001b[1;33m(\u001b[0m\u001b[0mcoins\u001b[0m\u001b[1;33m,\u001b[0m \u001b[0mi\u001b[0m\u001b[1;33m+\u001b[0m\u001b[1;36m1\u001b[0m\u001b[1;33m,\u001b[0m \u001b[0mcsum\u001b[0m\u001b[1;33m,\u001b[0m \u001b[0mcombos\u001b[0m\u001b[1;33m)\u001b[0m\u001b[1;33m\u001b[0m\u001b[0m\n\u001b[0m\u001b[0;32m     15\u001b[0m             \u001b[1;32melse\u001b[0m\u001b[1;33m:\u001b[0m\u001b[1;33m\u001b[0m\u001b[0m\n\u001b[0;32m     16\u001b[0m                 \u001b[0mcombos\u001b[0m \u001b[1;33m+=\u001b[0m \u001b[1;36m1\u001b[0m\u001b[1;33m\u001b[0m\u001b[0m\n",
      "\u001b[1;32m<ipython-input-99-daa1e007d7a6>\u001b[0m in \u001b[0;36mcoinsum\u001b[1;34m(coins, i, csum, combos)\u001b[0m\n\u001b[0;32m      9\u001b[0m         \u001b[1;32mif\u001b[0m \u001b[0mi\u001b[0m \u001b[1;33m<\u001b[0m \u001b[1;36m6\u001b[0m\u001b[1;33m:\u001b[0m\u001b[1;33m\u001b[0m\u001b[0m\n\u001b[0;32m     10\u001b[0m             \u001b[1;32mif\u001b[0m \u001b[0mcsum\u001b[0m \u001b[1;33m<\u001b[0m \u001b[1;36m200\u001b[0m\u001b[1;33m:\u001b[0m\u001b[1;33m\u001b[0m\u001b[0m\n\u001b[1;32m---> 11\u001b[1;33m                 \u001b[0mcoinsum\u001b[0m\u001b[1;33m(\u001b[0m\u001b[0mcoins\u001b[0m\u001b[1;33m,\u001b[0m \u001b[0mi\u001b[0m\u001b[1;33m+\u001b[0m\u001b[1;36m1\u001b[0m\u001b[1;33m,\u001b[0m \u001b[0mcsum\u001b[0m\u001b[1;33m,\u001b[0m \u001b[0mcombos\u001b[0m\u001b[1;33m)\u001b[0m\u001b[1;33m\u001b[0m\u001b[0m\n\u001b[0m\u001b[0;32m     12\u001b[0m             \u001b[1;32melif\u001b[0m \u001b[0mcsum\u001b[0m \u001b[1;33m>\u001b[0m \u001b[1;36m200\u001b[0m\u001b[1;33m:\u001b[0m\u001b[1;33m\u001b[0m\u001b[0m\n\u001b[0;32m     13\u001b[0m                 \u001b[0mcsum\u001b[0m \u001b[1;33m-=\u001b[0m \u001b[0mc\u001b[0m\u001b[1;33m\u001b[0m\u001b[0m\n",
      "\u001b[1;32m<ipython-input-99-daa1e007d7a6>\u001b[0m in \u001b[0;36mcoinsum\u001b[1;34m(coins, i, csum, combos)\u001b[0m\n\u001b[0;32m     20\u001b[0m                 \u001b[1;32mcontinue\u001b[0m\u001b[1;33m\u001b[0m\u001b[0m\n\u001b[0;32m     21\u001b[0m             \u001b[1;32melif\u001b[0m \u001b[0mcsum\u001b[0m \u001b[1;33m>\u001b[0m \u001b[1;36m200\u001b[0m\u001b[1;33m:\u001b[0m\u001b[1;33m\u001b[0m\u001b[0m\n\u001b[1;32m---> 22\u001b[1;33m                 \u001b[1;32mbreak\u001b[0m\u001b[1;33m\u001b[0m\u001b[0m\n\u001b[0m\u001b[0;32m     23\u001b[0m             \u001b[1;32melse\u001b[0m\u001b[1;33m:\u001b[0m\u001b[1;33m\u001b[0m\u001b[0m\n\u001b[0;32m     24\u001b[0m                 \u001b[0mcombos\u001b[0m \u001b[1;33m+=\u001b[0m \u001b[1;36m1\u001b[0m\u001b[1;33m\u001b[0m\u001b[0m\n",
      "\u001b[1;31mKeyboardInterrupt\u001b[0m: "
     ]
    }
   ],
   "source": [
    "#31\n",
    "\n",
    "a = [100, 50, 20, 10, 5, 2, 1]\n",
    "a = sorted(a)\n",
    "\n",
    "def coinsum(coins, i=0, csum=0, combos=0):\n",
    "    for c in range(0, 200+1, coins[i]):\n",
    "        csum += c\n",
    "        if i < 6:\n",
    "            if csum < 200:\n",
    "                coinsum(coins, i+1, csum, combos)\n",
    "            elif csum > 200:\n",
    "                csum -= c\n",
    "                coinsum(coins, i+1, csum, combos)\n",
    "            else:\n",
    "                combos += 1\n",
    "                break\n",
    "        else:\n",
    "            if csum < 200:\n",
    "                csum -= c\n",
    "                continue\n",
    "            elif csum > 200:\n",
    "                break\n",
    "            else:\n",
    "                combos += 1\n",
    "                break\n",
    "    return combos\n",
    "\n",
    "coinsum(a) + 1"
   ]
  }
 ],
 "metadata": {
  "kernelspec": {
   "display_name": "Python 3",
   "language": "python",
   "name": "python3"
  },
  "language_info": {
   "codemirror_mode": {
    "name": "ipython",
    "version": 3
   },
   "file_extension": ".py",
   "mimetype": "text/x-python",
   "name": "python",
   "nbconvert_exporter": "python",
   "pygments_lexer": "ipython3",
   "version": "3.6.1"
  }
 },
 "nbformat": 4,
 "nbformat_minor": 2
}
