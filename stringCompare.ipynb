{
 "cells": [
  {
   "cell_type": "code",
   "execution_count": 13,
   "metadata": {
    "collapsed": false
   },
   "outputs": [
    {
     "name": "stdout",
     "output_type": "stream",
     "text": [
      "True True  \n",
      "True True a a\n",
      "True False a aa\n",
      "True False a b\n",
      "True False ab ba\n"
     ]
    }
   ],
   "source": [
    "#evaluate if two strings are the same\n",
    "#function\n",
    "def stringCompare(a, b):\n",
    "    length = len(a)\n",
    "    if length != len(b):\n",
    "        return False\n",
    "    else:\n",
    "        for i in range(length):\n",
    "        #for c in a:\n",
    "            if a[i] != b[i]:\n",
    "                return False\n",
    "    return True\n",
    "\n",
    "#testing\n",
    "def functionTest(a, b, result):\n",
    "    #print '%r, %r, %r, %r' % (stringCompare(a, b) == result, stringCompare(a, b), a, b)\n",
    "    print(stringCompare(a, b) == result, stringCompare(a, b), a, b)\n",
    "\n",
    "functionTest('', '', True)\n",
    "functionTest('a', 'a', True)\n",
    "functionTest('a', 'aa', False)\n",
    "functionTest('a', 'b', False)\n",
    "functionTest('ab', 'ba', False)"
   ]
  },
  {
   "cell_type": "code",
   "execution_count": 4,
   "metadata": {
    "collapsed": false
   },
   "outputs": [
    {
     "name": "stdout",
     "output_type": "stream",
     "text": [
      "True True 0  \n",
      "True True 2 a a\n",
      "True False 0 abcd aaaa\n",
      "True True 4 abcd abcd\n",
      "True False 1 abcd abcd\n",
      "True True 2 abcd cdab\n",
      "True False 1 abcd bcda\n",
      "True True 1 abcde eabcd\n"
     ]
    }
   ],
   "source": [
    "#evaluate if two strings are the same with optional offset, offset given\n",
    "#function\n",
    "def stringCompare(a, b, shift):\n",
    "    length = len(a)\n",
    "    if length != len(b):\n",
    "        return False\n",
    "    for i in range(length):\n",
    "        offset = (i + shift) % length\n",
    "        if a[i] != b[offset]:\n",
    "            return False\n",
    "    return True\n",
    "\n",
    "#testing\n",
    "def functionTest(a, b, result, shift = 0):\n",
    "    #print '%r, %r, %r, %r, %r' % (stringCompare(a, b, shift) == result, stringCompare(a, b, shift), shift, a, b)\n",
    "    print(stringCompare(a, b, shift) == result, stringCompare(a, b, shift), shift, a, b)\n",
    "\n",
    "functionTest('', '', True)\n",
    "functionTest('a', 'a', True, 2)\n",
    "functionTest('abcd', 'aaaa', False)\n",
    "functionTest('abcd', 'abcd', True, 4)\n",
    "functionTest('abcd', 'abcd', False, 1)\n",
    "functionTest('abcd', 'cdab', True, 2)\n",
    "functionTest('abcd', 'bcda', False, 1)\n",
    "functionTest('abcde', 'eabcd', True, 1)"
   ]
  },
  {
   "cell_type": "code",
   "execution_count": 5,
   "metadata": {
    "collapsed": false
   },
   "outputs": [
    {
     "name": "stdout",
     "output_type": "stream",
     "text": [
      "True True  \n",
      "True False a aa\n",
      "True True abcd abcd\n",
      "True True abcd bcda\n",
      "True True abcd dabc\n",
      "True False abcd dcba\n",
      "True False ab cd bcd a\n"
     ]
    }
   ],
   "source": [
    "#evaluate if two strings are the same with optional offset, offset not given\n",
    "#function\n",
    "def stringCompare(a, b):\n",
    "    length = len(a)\n",
    "    if length != len(b):\n",
    "        return False\n",
    "    elif length == 0: #why is this test necessary now\n",
    "        return True\n",
    "    for j in range(length):\n",
    "        for i in range(length):\n",
    "            offset = (i + j) % length\n",
    "            if a[i] != b[offset]:\n",
    "                break\n",
    "        else:\n",
    "            return True\n",
    "    return False\n",
    "\n",
    "#testing\n",
    "def functionTest(a, b, result):\n",
    "    #print '%r, %r, %r, %r' % (stringCompare(a, b) == result, stringCompare(a, b), a, b)\n",
    "    print(stringCompare(a, b) == result, stringCompare(a, b), a, b)\n",
    "\n",
    "functionTest('', '', True)\n",
    "functionTest('a', 'aa', False)\n",
    "functionTest('abcd', 'abcd', True)\n",
    "functionTest('abcd', 'bcda', True)\n",
    "functionTest('abcd', 'dabc', True)\n",
    "functionTest('abcd', 'dcba', False)\n",
    "functionTest('ab cd', 'bcd a', False)"
   ]
  }
 ],
 "metadata": {
  "kernelspec": {
   "display_name": "Python 3",
   "language": "python",
   "name": "python3"
  },
  "language_info": {
   "codemirror_mode": {
    "name": "ipython",
    "version": 3
   },
   "file_extension": ".py",
   "mimetype": "text/x-python",
   "name": "python",
   "nbconvert_exporter": "python",
   "pygments_lexer": "ipython3",
   "version": "3.5.3"
  }
 },
 "nbformat": 4,
 "nbformat_minor": 2
}
