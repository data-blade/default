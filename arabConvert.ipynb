{
 "cells": [
  {
   "cell_type": "code",
   "execution_count": 23,
   "metadata": {
    "collapsed": false
   },
   "outputs": [
    {
     "name": "stdout",
     "output_type": "stream",
     "text": [
      "True 0 \n",
      "True 1 I\n",
      "True 8 VIII\n",
      "True 73 LXXIII\n"
     ]
    }
   ],
   "source": [
    "def arabToRoman(num: int) -> str:\n",
    "    m_div = num // 1000\n",
    "    m_mod = num % 1000\n",
    "    d_div = m_mod // 500\n",
    "    d_mod = m_mod % 500\n",
    "    c_div = d_mod // 100\n",
    "    c_mod = d_mod % 100\n",
    "    l_div = c_mod // 50\n",
    "    l_mod = c_mod % 50\n",
    "    x_div = l_mod // 10\n",
    "    x_mod = l_mod % 10\n",
    "    v_div = x_mod // 5\n",
    "    v_mod = x_mod % 5\n",
    "    i_div = v_mod // 1\n",
    "    \n",
    "    return m_div * 'M' + d_div * 'D' + c_div * 'C' + l_div * 'L' + x_div * 'X' + v_div * 'V' + i_div * 'I'\n",
    "\n",
    "def test(num, result):\n",
    "    print(arabToRoman(num) == result, num, arabToRoman(num))\n",
    "    \n",
    "test(0, '')\n",
    "test(1, 'I')\n",
    "#test(4, 'IV')\n",
    "test(8, 'VIII')\n",
    "#test(49, 'IL')\n",
    "test(73, 'LXXIII')"
   ]
  },
  {
   "cell_type": "code",
   "execution_count": 53,
   "metadata": {
    "collapsed": false
   },
   "outputs": [
    {
     "name": "stdout",
     "output_type": "stream",
     "text": [
      "True 0 \n",
      "True 1 I\n",
      "True 2 II\n",
      "True 3 III\n",
      "True 4 IV\n",
      "True 8 VIII\n",
      "True 29 XXIX\n",
      "True 40 XL\n",
      "True 73 LXXIII\n",
      "True 93 XCIII\n",
      "True 9999 MMMMMMMMMCMXCIX\n"
     ]
    }
   ],
   "source": [
    "def arabToRoman(num: int) -> str:\n",
    "    translation = {\n",
    "        'M': 1000,\n",
    "        'CM': 900,\n",
    "        'D': 500,\n",
    "        'C': 100,\n",
    "        'XC': 90,\n",
    "        'L': 50,\n",
    "        'X': 10,\n",
    "        'IX': 9,\n",
    "        'V': 5,\n",
    "        'I': 1\n",
    "    }\n",
    "    \n",
    "    roman = ''\n",
    "    for symbol, value in translation.items():\n",
    "        div = num // value\n",
    "        if div <= 3 or symbol == 'M':\n",
    "            roman += div * symbol\n",
    "        else:\n",
    "            roman += symbol + previous\n",
    "        num = num % value\n",
    "        previous = symbol\n",
    "    \n",
    "    return roman\n",
    "\n",
    "def test(num, expected):\n",
    "    actual = arabToRoman(num)\n",
    "    print(expected == actual, num, actual)\n",
    "    \n",
    "test(0, '')\n",
    "test(1, 'I')\n",
    "test(2, 'II')\n",
    "test(3, 'III')\n",
    "test(4, 'IV')\n",
    "test(8, 'VIII')\n",
    "test(29, 'XXIX')\n",
    "test(40, 'XL')\n",
    "test(73, 'LXXIII')\n",
    "test(93, 'XCIII')\n",
    "test(9999, 'MMMMMMMMMCMXCIX')"
   ]
  },
  {
   "cell_type": "code",
   "execution_count": 33,
   "metadata": {
    "collapsed": false
   },
   "outputs": [
    {
     "name": "stdout",
     "output_type": "stream",
     "text": [
      "1000 M\n",
      "500 D\n"
     ]
    }
   ],
   "source": [
    "for i, j in {1000:'M', 500:'D'}.items(): \n",
    "    print(i, j)"
   ]
  },
  {
   "cell_type": "code",
   "execution_count": 35,
   "metadata": {
    "collapsed": false
   },
   "outputs": [
    {
     "ename": "SyntaxError",
     "evalue": "invalid syntax (<ipython-input-35-4dc8a2daa8e0>, line 1)",
     "output_type": "error",
     "traceback": [
      "\u001b[1;36m  File \u001b[1;32m\"<ipython-input-35-4dc8a2daa8e0>\"\u001b[1;36m, line \u001b[1;32m1\u001b[0m\n\u001b[1;33m    'foo' + (str) 42\u001b[0m\n\u001b[1;37m                   ^\u001b[0m\n\u001b[1;31mSyntaxError\u001b[0m\u001b[1;31m:\u001b[0m invalid syntax\n"
     ]
    }
   ],
   "source": []
  }
 ],
 "metadata": {
  "kernelspec": {
   "display_name": "Python 3",
   "language": "python",
   "name": "python3"
  },
  "language_info": {
   "codemirror_mode": {
    "name": "ipython",
    "version": 3
   },
   "file_extension": ".py",
   "mimetype": "text/x-python",
   "name": "python",
   "nbconvert_exporter": "python",
   "pygments_lexer": "ipython3",
   "version": "3.6.0"
  }
 },
 "nbformat": 4,
 "nbformat_minor": 2
}
