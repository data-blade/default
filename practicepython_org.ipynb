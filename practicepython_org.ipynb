{
 "cells": [
  {
   "cell_type": "code",
   "execution_count": 88,
   "metadata": {
    "collapsed": true
   },
   "outputs": [],
   "source": [
    "import random\n",
    "import timeit\n",
    "import time"
   ]
  },
  {
   "cell_type": "code",
   "execution_count": 10,
   "metadata": {},
   "outputs": [
    {
     "name": "stdout",
     "output_type": "stream",
     "text": [
      "> 1\n",
      "[]\n"
     ]
    }
   ],
   "source": [
    "#03\n",
    "\n",
    "a = [1, 1, 2, 3, 5, 8, 13, 21, 34, 55, 89]\n",
    "l = []\n",
    "while True:\n",
    "    try:\n",
    "        limit = int(input('> '))\n",
    "        break\n",
    "    except ValueError:\n",
    "        print('not a number')\n",
    "for i in a:\n",
    "    if i < limit:\n",
    "        l.append(i)\n",
    "print(l)"
   ]
  },
  {
   "cell_type": "code",
   "execution_count": 12,
   "metadata": {},
   "outputs": [
    {
     "name": "stdout",
     "output_type": "stream",
     "text": [
      "> 66\n",
      "[2, 3, 6, 11, 22, 33]\n"
     ]
    }
   ],
   "source": [
    "#04\n",
    "\n",
    "l = []\n",
    "while True:\n",
    "    try:\n",
    "        num = int(input('> '))\n",
    "        break\n",
    "    except ValueError:\n",
    "        print('not a number')\n",
    "for i in range(2,num):\n",
    "    if num % i == 0:\n",
    "        l.append(i)\n",
    "print(l)"
   ]
  },
  {
   "cell_type": "code",
   "execution_count": 5,
   "metadata": {},
   "outputs": [
    {
     "name": "stdout",
     "output_type": "stream",
     "text": [
      "[65, 48, 79, 62, 69, 79, 3, 74, 22, 64]\n",
      "[53, 11, 59, 74, 63, 20, 38, 57, 2, 78, 54, 3, 60, 19, 72, 66, 33, 14, 66, 41, 56, 14]\n",
      "[3, 74]\n"
     ]
    }
   ],
   "source": [
    "#05\n",
    "\n",
    "import random\n",
    "\n",
    "l = []\n",
    "a = [random.randint(1,80) for x in range(random.randint(1,30))]\n",
    "b = [random.randint(1,80) for x in range(random.randint(1,30))]\n",
    "\n",
    "print(a)\n",
    "print(b)\n",
    "\n",
    "#reduce runtime by looping the shorter list\n",
    "if len(a) > len(b):\n",
    "    a, b = b, a\n",
    "for i in a:\n",
    "    if i in l:\n",
    "        continue\n",
    "    if i in b:\n",
    "        l.append(i)\n",
    "\n",
    "print(l)"
   ]
  },
  {
   "cell_type": "code",
   "execution_count": 72,
   "metadata": {},
   "outputs": [
    {
     "name": "stdout",
     "output_type": "stream",
     "text": [
      "> syh\n",
      "hys\n",
      "no\n"
     ]
    }
   ],
   "source": [
    "#06\n",
    "\n",
    "palin = input('> ')\n",
    "print(palin[::-1])\n",
    "\n",
    "if palin == palin[::-1]:\n",
    "    print('yes')\n",
    "else:\n",
    "    print('no')"
   ]
  },
  {
   "cell_type": "code",
   "execution_count": 79,
   "metadata": {},
   "outputs": [
    {
     "name": "stdout",
     "output_type": "stream",
     "text": [
      "[4, 16, 36, 64, 100]\n"
     ]
    }
   ],
   "source": [
    "#07\n",
    "\n",
    "a = [1, 4, 9, 16, 25, 36, 49, 64, 81, 100]\n",
    "print([n for n in a if n % 2 == 0])"
   ]
  },
  {
   "cell_type": "code",
   "execution_count": 1,
   "metadata": {},
   "outputs": [
    {
     "name": "stdout",
     "output_type": "stream",
     "text": [
      "let the games begin!\n",
      "choose your weapon: ········\n",
      "choose your weapon: ········\n",
      "FIRST won\n",
      "new game? (y/n) n\n"
     ]
    }
   ],
   "source": [
    "#08\n",
    "\n",
    "import getpass\n",
    "\n",
    "def choice():\n",
    "    while True:\n",
    "        wpn = getpass.getpass('choose your weapon: ')\n",
    "        if wpn.lower() in ('r', 'p', 's'):\n",
    "            return wpn.lower()\n",
    "        print('pardon?')\n",
    "\n",
    "def winCheck(a, b):\n",
    "    if a == b:\n",
    "        return 'it\\'s a draw'\n",
    "    elif (a == 's' and b == 'p') or \\\n",
    "         (a == 'p' and b == 'r') or \\\n",
    "         (a == 'r' and b == 's'):\n",
    "        return 'FIRST won'\n",
    "    else:\n",
    "        return 'SECOND won'\n",
    "\n",
    "print('let the games begin!')\n",
    "\n",
    "while True:\n",
    "    #player = 'A'\n",
    "    a = choice()\n",
    "    #player = 'B'\n",
    "    b = choice()\n",
    "    print(winCheck(a, b))\n",
    "    \n",
    "    while True:\n",
    "        new = input('new game? (y/n) ')\n",
    "        if new.lower() not in ('y','n'):\n",
    "            print('pardon?')\n",
    "        else:\n",
    "            break\n",
    "    if new.lower() == 'n':\n",
    "        break"
   ]
  },
  {
   "cell_type": "code",
   "execution_count": 21,
   "metadata": {},
   "outputs": [
    {
     "name": "stdout",
     "output_type": "stream",
     "text": [
      "guess my number between 1 and 9: 5\n",
      "too high\n",
      "guess my number between 1 and 9: 11\n",
      "huh?\n",
      "guess my number between 1 and 9: 0\n",
      "huh?\n",
      "guess my number between 1 and 9: 2\n",
      "too low\n",
      "guess my number between 1 and 9: 3\n",
      "hit!\n",
      "this took you 3 guesses\n"
     ]
    }
   ],
   "source": [
    "#09\n",
    "\n",
    "import random\n",
    "\n",
    "def eval(a, b):\n",
    "    if a == b:\n",
    "        return 'hit!'\n",
    "    elif a > b:\n",
    "        return 'too low'\n",
    "    else:\n",
    "        return 'too high'\n",
    "\n",
    "low = 1\n",
    "high = 9\n",
    "num = random.randint(low, high)\n",
    "guess = 0\n",
    "cnt = 0\n",
    "while num != guess:\n",
    "    guess = input('guess my number between 1 and 9: ')\n",
    "    if guess == 'q':\n",
    "        break\n",
    "    try:\n",
    "        guess = int(guess)\n",
    "    except ValueError:\n",
    "        print('not a number')\n",
    "        continue\n",
    "    if guess not in range(low, high + 1):\n",
    "        print('huh?')\n",
    "    else:\n",
    "        print(eval(num, guess))\n",
    "        cnt += 1\n",
    "else:\n",
    "    print('this took you', cnt, 'guesses')"
   ]
  },
  {
   "cell_type": "code",
   "execution_count": 30,
   "metadata": {},
   "outputs": [
    {
     "name": "stdout",
     "output_type": "stream",
     "text": [
      "[13, 30, 2, 33, 24, 3, 23, 25, 32]\n",
      "[12, 34, 61, 19, 55, 49, 21, 53, 55, 55, 2, 26, 17, 38, 3, 35, 60, 76, 42, 47]\n",
      "[2, 3]\n"
     ]
    }
   ],
   "source": [
    "#10 intersect of lists\n",
    "\n",
    "import random\n",
    "#a = [1,1,2]\n",
    "#b = [1,1,2,3]\n",
    "a = random.sample(range(random.randint(1,80)), random.randint(1,30)) #without duplicates\n",
    "b = [random.randint(1,80) for x in range(random.randint(1,30))] # with duplicates\n",
    "\n",
    "print(a)\n",
    "print(b)\n",
    "\n",
    "#reduce runtime by looping the shorter list\n",
    "if len(a) > len(b):\n",
    "    a, b = b, a\n",
    "#l = [n for n in a if n in b and n not in l]\n",
    "#l = list(set(filter(lambda x: x in b, a)))\n",
    "l = list(set(a).intersection(b))\n",
    "\n",
    "print(l)"
   ]
  },
  {
   "cell_type": "code",
   "execution_count": 6,
   "metadata": {},
   "outputs": [
    {
     "name": "stdout",
     "output_type": "stream",
     "text": [
      "> 15485863\n"
     ]
    },
    {
     "data": {
      "text/plain": [
       "True"
      ]
     },
     "execution_count": 6,
     "metadata": {},
     "output_type": "execute_result"
    }
   ],
   "source": [
    "#11 prime test\n",
    "\n",
    "def primeTest(num):\n",
    "    if num < 4:\n",
    "        return True\n",
    "    i = 2\n",
    "    while num // i >= i:\n",
    "        if num % i == 0:\n",
    "            return i\n",
    "        i += 1\n",
    "    return True\n",
    "\n",
    "num = int(input('> '))\n",
    "primeTest(num)"
   ]
  },
  {
   "cell_type": "code",
   "execution_count": 5,
   "metadata": {},
   "outputs": [
    {
     "data": {
      "text/plain": [
       "[5, 25]"
      ]
     },
     "execution_count": 5,
     "metadata": {},
     "output_type": "execute_result"
    }
   ],
   "source": [
    "#12 1st and last element\n",
    "\n",
    "a = [5, 10, 15, 20, 25]\n",
    "a[::len(a)-1]"
   ]
  },
  {
   "cell_type": "code",
   "execution_count": 4,
   "metadata": {},
   "outputs": [
    {
     "name": "stdout",
     "output_type": "stream",
     "text": [
      "> 12\n"
     ]
    },
    {
     "data": {
      "text/plain": [
       "[1, 1, 2, 3, 5, 8, 13, 21, 34, 55, 89, 144]"
      ]
     },
     "execution_count": 4,
     "metadata": {},
     "output_type": "execute_result"
    }
   ],
   "source": [
    "#13 list first x fibo numbers\n",
    "\n",
    "def fibo(num):\n",
    "    l = [0,1]\n",
    "    for i in range(1, num):\n",
    "        l.append(l[-1] + l[-2])\n",
    "    return l[1::]\n",
    "\n",
    "num = int(input('> '))\n",
    "fibo(num)"
   ]
  },
  {
   "cell_type": "code",
   "execution_count": 3,
   "metadata": {},
   "outputs": [
    {
     "name": "stdout",
     "output_type": "stream",
     "text": [
      "> sefajer awengverjf arvb\n"
     ]
    },
    {
     "data": {
      "text/plain": [
       "'arvb awengverjf sefajer'"
      ]
     },
     "execution_count": 3,
     "metadata": {},
     "output_type": "execute_result"
    }
   ],
   "source": [
    "#15 sentence reverser\n",
    "\n",
    "sentence = str(input('> '))\n",
    "' '.join(sentence.split(' ')[::-1])"
   ]
  },
  {
   "cell_type": "code",
   "execution_count": 2,
   "metadata": {},
   "outputs": [
    {
     "data": {
      "text/plain": [
       "'vDbp4\\\\O4U_'"
      ]
     },
     "execution_count": 2,
     "metadata": {},
     "output_type": "execute_result"
    }
   ],
   "source": [
    "#16 password generator\n",
    "\n",
    "import random\n",
    "\n",
    "def pw(num = 10) -> str:\n",
    "    if num < 8:\n",
    "        return 'too short'\n",
    "    l = []\n",
    "    #lower = chr(random.randint(97, 122)) #a-z\n",
    "    #upper = chr(random.randint(65, 90)) #A-Z\n",
    "    #number = chr(random.randint(48, 57)) #0-9\n",
    "    symbols = ['!', '§', '$', '%', '&', '/', '-', '_', '?', '#', '+', '~', '\\\\']\n",
    "    #symbol = random.choice(symbols)\n",
    "    for i in range(num // 4 + 1):\n",
    "        l.append(chr(random.randint(97, 122)))\n",
    "        l.append(chr(random.randint(65, 90)))\n",
    "        l.append(chr(random.randint(48, 57)))\n",
    "        l.append(random.choice(symbols))\n",
    "    return ''.join(random.sample(l[:num], num))\n",
    "\n",
    "pw(10)"
   ]
  },
  {
   "cell_type": "code",
   "execution_count": 3,
   "metadata": {},
   "outputs": [
    {
     "name": "stdout",
     "output_type": "stream",
     "text": [
      "please enter 4 digits:\n",
      "> 0000\n",
      "0 cows, 0 bulls\n",
      "> 1111\n",
      "0 cows, 0 bulls\n",
      "> 2345\n",
      "2 cows, 1 bulls\n",
      "> 2346\n",
      "1 cows, 1 bulls\n",
      "> 2355\n",
      "2 cows, 1 bulls\n",
      "> 9325\n",
      "3 cows, 0 bulls\n",
      "> 8325\n",
      "3 cows, 0 bulls\n",
      "> 7325\n",
      "3 cows, 0 bulls\n",
      "> 4325\n",
      "3 cows, 0 bulls\n",
      "> 3325\n",
      "congratz! you needed 9 tries\n"
     ]
    }
   ],
   "source": [
    "#18 cows and bulls\n",
    "\n",
    "target = str('%04d' % random.randint(0, 9999))\n",
    "tries = 0\n",
    "#print(target)\n",
    "print('please enter 4 digits:')\n",
    "while True:\n",
    "    guess = input('> ')\n",
    "    if guess == target or guess == 'q':\n",
    "        break\n",
    "    if len(guess) != 4:\n",
    "        print('not a valid guess')\n",
    "        continue\n",
    "    cows = 0\n",
    "    bulls= 0\n",
    "    num = target\n",
    "    for i in range(4):\n",
    "        if guess[i] == num[i]:\n",
    "            cows += 1\n",
    "            num = num[:i] + ' ' + num[(i+1):]\n",
    "            guess = guess[:i] + '_' + guess[(i+1):]\n",
    "    for j in range(4):\n",
    "        if guess[j] in num:\n",
    "            bulls += 1\n",
    "    tries += 1\n",
    "    print('{} cows, {} bulls'.format(cows, bulls))\n",
    "print('congratz! you needed', tries, 'tries')        "
   ]
  },
  {
   "cell_type": "code",
   "execution_count": 66,
   "metadata": {},
   "outputs": [],
   "source": [
    "#20a binary search\n",
    "\n",
    "def intInList(testlist, testint):\n",
    "    middle = len(testlist)//2\n",
    "    while middle > 0:\n",
    "        if testint > testlist[middle]:\n",
    "            testlist = testlist[(middle+1):]\n",
    "        elif testint < testlist[middle]:\n",
    "            testlist = testlist[:middle]\n",
    "        else:\n",
    "            return True\n",
    "        middle = len(testlist)//2\n",
    "    if len(testlist) == 0:\n",
    "        return False\n",
    "    if testint != testlist[0]:\n",
    "        return False\n",
    "    return True"
   ]
  },
  {
   "cell_type": "code",
   "execution_count": 99,
   "metadata": {},
   "outputs": [
    {
     "name": "stdout",
     "output_type": "stream",
     "text": [
      "False\n",
      "0.05413956098686867\n",
      "False\n",
      "0.04291030029014564\n"
     ]
    }
   ],
   "source": [
    "#20b binary search\n",
    "\n",
    "listlength = 1000000\n",
    "l = sorted(random.sample(range(1, listlength*10), listlength))\n",
    "i = random.randint(1, listlength*10)\n",
    "\n",
    "first = timeit.default_timer()\n",
    "print(i in l)\n",
    "print(timeit.default_timer()-first)\n",
    "\n",
    "first = timeit.default_timer()\n",
    "print(intInList(l, i))\n",
    "print(timeit.default_timer()-first)"
   ]
  }
 ],
 "metadata": {
  "kernelspec": {
   "display_name": "Python 3",
   "language": "python",
   "name": "python3"
  },
  "language_info": {
   "codemirror_mode": {
    "name": "ipython",
    "version": 3
   },
   "file_extension": ".py",
   "mimetype": "text/x-python",
   "name": "python",
   "nbconvert_exporter": "python",
   "pygments_lexer": "ipython3",
   "version": "3.6.1"
  }
 },
 "nbformat": 4,
 "nbformat_minor": 2
}
