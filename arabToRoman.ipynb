{
 "cells": [
  {
   "cell_type": "code",
   "execution_count": 53,
   "metadata": {
    "collapsed": false,
    "deletable": true,
    "editable": true
   },
   "outputs": [
    {
     "name": "stdout",
     "output_type": "stream",
     "text": [
      "True 0 \n",
      "True 1 I\n",
      "True 2 II\n",
      "True 3 III\n",
      "True 4 IV\n",
      "True 8 VIII\n",
      "True 29 XXIX\n",
      "True 40 XL\n",
      "True 73 LXXIII\n",
      "True 93 XCIII\n",
      "True 9999 MMMMMMMMMCMXCIX\n"
     ]
    }
   ],
   "source": [
    "def arabToRoman(num: int) -> str:\n",
    "    translation = {\n",
    "        'M': 1000,\n",
    "        'CM': 900,\n",
    "        'D': 500,\n",
    "        'C': 100,\n",
    "        'XC': 90,\n",
    "        'L': 50,\n",
    "        'X': 10,\n",
    "        'IX': 9,\n",
    "        'V': 5,\n",
    "        'I': 1\n",
    "    }\n",
    "    \n",
    "    roman = ''\n",
    "    for symbol, value in translation.items():\n",
    "        div = num // value\n",
    "        if div <= 3 or symbol == 'M':\n",
    "            roman += div * symbol\n",
    "        else:\n",
    "            roman += symbol + previous\n",
    "        num = num % value\n",
    "        previous = symbol\n",
    "    \n",
    "    return roman\n",
    "\n",
    "def test(num, expected):\n",
    "    actual = arabToRoman(num)\n",
    "    print(expected == actual, num, actual)\n",
    "    \n",
    "test(0, '')\n",
    "test(1, 'I')\n",
    "test(2, 'II')\n",
    "test(3, 'III')\n",
    "test(4, 'IV')\n",
    "test(8, 'VIII')\n",
    "test(29, 'XXIX')\n",
    "test(40, 'XL')\n",
    "test(73, 'LXXIII')\n",
    "test(93, 'XCIII')\n",
    "test(9999, 'MMMMMMMMMCMXCIX')"
   ]
  }
 ],
 "metadata": {
  "kernelspec": {
   "display_name": "Python 3",
   "language": "python",
   "name": "python3"
  },
  "language_info": {
   "codemirror_mode": {
    "name": "ipython",
    "version": 3
   },
   "file_extension": ".py",
   "mimetype": "text/x-python",
   "name": "python",
   "nbconvert_exporter": "python",
   "pygments_lexer": "ipython3",
   "version": "3.5.3"
  }
 },
 "nbformat": 4,
 "nbformat_minor": 2
}
