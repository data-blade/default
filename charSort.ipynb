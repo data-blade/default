{
 "cells": [
  {
   "cell_type": "code",
   "execution_count": 83,
   "metadata": {
    "collapsed": false,
    "deletable": true,
    "editable": true
   },
   "outputs": [
    {
     "name": "stdout",
     "output_type": "stream",
     "text": [
      "bdefghjjkkkmnnooorrs\n"
     ]
    }
   ],
   "source": [
    "# sort string alphabetically\n",
    "a = \"sdjkogjerobnkrfmkohn\"\n",
    "\n",
    "tmp = []\n",
    "\n",
    "for letter in a:\n",
    "    tmp.append(letter)\n",
    "\n",
    "for i in range(len(tmp) - 1):\n",
    "    for j in range(len(tmp) - 1):\n",
    "        if tmp[j] > tmp[j+1]:\n",
    "            tmp2 = tmp[j]\n",
    "            tmp[j] = tmp[j+1]\n",
    "            tmp[j+1] = tmp2\n",
    "            \n",
    "#print(tmp)\n",
    "a = ''.join(n for n in tmp)\n",
    "print(a)"
   ]
  },
  {
   "cell_type": "code",
   "execution_count": 79,
   "metadata": {
    "collapsed": false,
    "deletable": true,
    "editable": true
   },
   "outputs": [
    {
     "name": "stdout",
     "output_type": "stream",
     "text": [
      "[('s', 1), ('d', 1), ('j', 2), ('k', 3), ('o', 3), ('g', 1), ('e', 1), ('r', 2), ('b', 1), ('n', 2), ('f', 1), ('m', 1), ('h', 1)]\n"
     ]
    }
   ],
   "source": [
    "# count char occurences in string\n",
    "a = \"sdjkogjerobnkrfmkohn\"\n",
    "\n",
    "number_list = []\n",
    "\n",
    "for letter in a:\n",
    "    tmp = 0\n",
    "    for letter2 in a:\n",
    "        if letter == letter2:\n",
    "            tmp += 1\n",
    "    if (letter,tmp) in number_list:\n",
    "        continue\n",
    "    number_list.append((letter,tmp))\n",
    "    \n",
    "print(number_list)"
   ]
  },
  {
   "cell_type": "code",
   "execution_count": 82,
   "metadata": {
    "collapsed": false,
    "deletable": true,
    "editable": true
   },
   "outputs": [
    {
     "name": "stdout",
     "output_type": "stream",
     "text": [
      "bdefghjkmnors\n"
     ]
    }
   ],
   "source": [
    "# sort string alphabetically and unique chars\n",
    "a = \"sdjkogjerobnkrfmkohn\"\n",
    "\n",
    "tmp = []\n",
    "\n",
    "for letter in a:\n",
    "    tmp.append(letter)\n",
    "\n",
    "for i in range(len(tmp) - 1):\n",
    "    for j in range(len(tmp) - 1):\n",
    "        if tmp[j] > tmp[j+1]:\n",
    "            tmp2 = tmp[j]\n",
    "            tmp[j] = tmp[j+1]\n",
    "            tmp[j+1] = tmp2\n",
    "a = ''.join(n for n in tmp)\n",
    "\n",
    "number_list = []\n",
    "\n",
    "for letter in a:\n",
    "    if letter in number_list:\n",
    "        continue\n",
    "    number_list.append(letter)\n",
    "    \n",
    "a = ''.join(n for n in number_list)\n",
    "print(a)"
   ]
  }
 ],
 "metadata": {
  "kernelspec": {
   "display_name": "Python 3",
   "language": "python",
   "name": "python3"
  },
  "language_info": {
   "codemirror_mode": {
    "name": "ipython",
    "version": 3
   },
   "file_extension": ".py",
   "mimetype": "text/x-python",
   "name": "python",
   "nbconvert_exporter": "python",
   "pygments_lexer": "ipython3",
   "version": "3.5.3"
  }
 },
 "nbformat": 4,
 "nbformat_minor": 2
}
